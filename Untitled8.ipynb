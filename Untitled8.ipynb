{
  "nbformat": 4,
  "nbformat_minor": 0,
  "metadata": {
    "colab": {
      "name": "Untitled8.ipynb",
      "provenance": []
    },
    "kernelspec": {
      "name": "python3",
      "display_name": "Python 3"
    },
    "language_info": {
      "name": "python"
    }
  },
  "cells": [
    {
      "cell_type": "code",
      "metadata": {
        "colab": {
          "base_uri": "https://localhost:8080/"
        },
        "id": "xIdBHSkuxQ1R",
        "outputId": "8b2a6e8c-eca2-4de4-85b0-80227252d0d0"
      },
      "source": [
        "import numpy as np # library to handle data in a vectorized manner\n",
        "\n",
        "import pandas as pd # library for data analsysis\n",
        "pd.set_option('display.max_columns', 100)\n",
        "pd.set_option('display.max_rows', 100)\n",
        "\n",
        "import json # library to handle JSON files\n",
        "\n",
        "from geopy.geocoders import Nominatim # convert an address into latitude and longitude values\n",
        "\n",
        "import requests # library to handle requests\n",
        "from pandas.io.json import json_normalize # tranform JSON file into a pandas dataframe\n",
        "\n",
        "# Matplotlib and associated plotting modules\n",
        "import matplotlib.cm as cm\n",
        "import matplotlib.colors as colors\n",
        "\n",
        "# import k-means from clustering stage\n",
        "from sklearn.cluster import KMeans\n",
        "\n",
        "import folium # map rendering library\n",
        "\n",
        "print('Libraries imported.')\n"
      ],
      "execution_count": 26,
      "outputs": [
        {
          "output_type": "stream",
          "name": "stdout",
          "text": [
            "Libraries imported.\n"
          ]
        }
      ]
    },
    {
      "cell_type": "code",
      "metadata": {
        "id": "6EH_8aSTxaff"
      },
      "source": [
        "from pandas.io.json import json_normalize\n",
        "import folium\n",
        "from geopy.geocoders import Nominatim \n",
        "import requests"
      ],
      "execution_count": 6,
      "outputs": []
    },
    {
      "cell_type": "code",
      "metadata": {
        "id": "yYGJn0Rbxajc"
      },
      "source": [
        "crime_rate=pd.read_csv(\"Neighbourhood_Crime_Rates_2020 2.csv\")\n",
        "shooting_firearm=pd.read_csv(\"Shootings_and_Firearm_Discharges.csv\")\n",
        "profile=pd.read_csv(\"neighbourhood_profiles_2016_csv.csv\")"
      ],
      "execution_count": 7,
      "outputs": []
    },
    {
      "cell_type": "markdown",
      "metadata": {
        "id": "QgqBMDBijBEK"
      },
      "source": [
        ""
      ]
    },
    {
      "cell_type": "code",
      "metadata": {
        "id": "q_K9NKWmxanK"
      },
      "source": [
        "list_of_neig = profile.iloc[:,5:].T.index"
      ],
      "execution_count": 40,
      "outputs": []
    },
    {
      "cell_type": "code",
      "metadata": {
        "colab": {
          "base_uri": "https://localhost:8080/"
        },
        "id": "KILhwQfHo5Sf",
        "outputId": "acf1eb18-a8bb-42be-bc4d-6ea86dbfb331"
      },
      "source": [
        "for neig in list_of_neig:\n",
        "  print(neig)"
      ],
      "execution_count": 41,
      "outputs": [
        {
          "output_type": "stream",
          "name": "stdout",
          "text": [
            "City of Toronto\n",
            "Agincourt North\n",
            "Agincourt South-Malvern West\n",
            "Alderwood\n",
            "Annex\n",
            "Banbury-Don Mills\n",
            "Bathurst Manor\n",
            "Bay Street Corridor\n",
            "Bayview Village\n",
            "Bayview Woods-Steeles\n",
            "Bedford Park-Nortown\n",
            "Beechborough-Greenbrook\n",
            "Bendale\n",
            "Birchcliffe-Cliffside\n",
            "Black Creek\n",
            "Blake-Jones\n",
            "Briar Hill-Belgravia\n",
            "Bridle Path-Sunnybrook-York Mills\n",
            "Broadview North\n",
            "Brookhaven-Amesbury\n",
            "Cabbagetown-South St. James Town\n",
            "Caledonia-Fairbank\n",
            "Casa Loma\n",
            "Centennial Scarborough\n",
            "Church-Yonge Corridor\n",
            "Clairlea-Birchmount\n",
            "Clanton Park\n",
            "Cliffcrest\n",
            "Corso Italia-Davenport\n",
            "Danforth\n",
            "Danforth East York\n",
            "Don Valley Village\n",
            "Dorset Park\n",
            "Dovercourt-Wallace Emerson-Junction\n",
            "Downsview-Roding-CFB\n",
            "Dufferin Grove\n",
            "East End-Danforth\n",
            "Edenbridge-Humber Valley\n",
            "Eglinton East\n",
            "Elms-Old Rexdale\n",
            "Englemount-Lawrence\n",
            "Eringate-Centennial-West Deane\n",
            "Etobicoke West Mall\n",
            "Flemingdon Park\n",
            "Forest Hill North\n",
            "Forest Hill South\n",
            "Glenfield-Jane Heights\n",
            "Greenwood-Coxwell\n",
            "Guildwood\n",
            "Henry Farm\n",
            "High Park North\n",
            "High Park-Swansea\n",
            "Highland Creek\n",
            "Hillcrest Village\n",
            "Humber Heights-Westmount\n",
            "Humber Summit\n",
            "Humbermede\n",
            "Humewood-Cedarvale\n",
            "Ionview\n",
            "Islington-City Centre West\n",
            "Junction Area\n",
            "Keelesdale-Eglinton West\n",
            "Kennedy Park\n",
            "Kensington-Chinatown\n",
            "Kingsview Village-The Westway\n",
            "Kingsway South\n",
            "Lambton Baby Point\n",
            "L'Amoreaux\n",
            "Lansing-Westgate\n",
            "Lawrence Park North\n",
            "Lawrence Park South\n",
            "Leaside-Bennington\n",
            "Little Portugal\n",
            "Long Branch\n",
            "Malvern\n",
            "Maple Leaf\n",
            "Markland Wood\n",
            "Milliken\n",
            "Mimico (includes Humber Bay Shores)\n",
            "Morningside\n",
            "Moss Park\n",
            "Mount Dennis\n",
            "Mount Olive-Silverstone-Jamestown\n",
            "Mount Pleasant East\n",
            "Mount Pleasant West\n",
            "New Toronto\n",
            "Newtonbrook East\n",
            "Newtonbrook West\n",
            "Niagara\n",
            "North Riverdale\n",
            "North St. James Town\n",
            "Oakridge\n",
            "Oakwood Village\n",
            "O'Connor-Parkview\n",
            "Old East York\n",
            "Palmerston-Little Italy\n",
            "Parkwoods-Donalda\n",
            "Pelmo Park-Humberlea\n",
            "Playter Estates-Danforth\n",
            "Pleasant View\n",
            "Princess-Rosethorn\n",
            "Regent Park\n",
            "Rexdale-Kipling\n",
            "Rockcliffe-Smythe\n",
            "Roncesvalles\n",
            "Rosedale-Moore Park\n",
            "Rouge\n",
            "Runnymede-Bloor West Village\n",
            "Rustic\n",
            "Scarborough Village\n",
            "South Parkdale\n",
            "South Riverdale\n",
            "St.Andrew-Windfields\n",
            "Steeles\n",
            "Stonegate-Queensway\n",
            "Tam O'Shanter-Sullivan\n",
            "Taylor-Massey\n",
            "The Beaches\n",
            "Thistletown-Beaumond Heights\n",
            "Thorncliffe Park\n",
            "Trinity-Bellwoods\n",
            "University\n",
            "Victoria Village\n",
            "Waterfront Communities-The Island\n",
            "West Hill\n",
            "West Humber-Clairville\n",
            "Westminster-Branson\n",
            "Weston\n",
            "Weston-Pelham Park\n",
            "Wexford/Maryvale\n",
            "Willowdale East\n",
            "Willowdale West\n",
            "Willowridge-Martingrove-Richview\n",
            "Woburn\n",
            "Woodbine Corridor\n",
            "Woodbine-Lumsden\n",
            "Wychwood\n",
            "Yonge-Eglinton\n",
            "Yonge-St.Clair\n",
            "York University Heights\n",
            "Yorkdale-Glen Park\n"
          ]
        }
      ]
    },
    {
      "cell_type": "code",
      "metadata": {
        "colab": {
          "base_uri": "https://localhost:8080/"
        },
        "id": "DiyBppQEpDlr",
        "outputId": "1049aeb8-4619-400e-a2e1-6508c0e29e45"
      },
      "source": [
        "len(list_of_neig)"
      ],
      "execution_count": 42,
      "outputs": [
        {
          "output_type": "execute_result",
          "data": {
            "text/plain": [
              "141"
            ]
          },
          "metadata": {},
          "execution_count": 42
        }
      ]
    },
    {
      "cell_type": "code",
      "metadata": {
        "id": "OPsS9g-mqT7D"
      },
      "source": [
        "def get_gps(city,location_name):\n",
        "  address = city+\",\"+location_name\n",
        "  geolocator = Nominatim(user_agent=\"tr_explorer\")\n",
        "  location = geolocator.geocode(address)\n",
        "  latitude = location.latitude\n",
        "  longitude = location.longitude\n",
        "  return dict(neighbourhood=location_name,longitude=longitude,latitude=latitude)\n"
      ],
      "execution_count": 50,
      "outputs": []
    },
    {
      "cell_type": "code",
      "metadata": {
        "colab": {
          "base_uri": "https://localhost:8080/",
          "height": 334
        },
        "id": "-Ua5vORXrZHp",
        "outputId": "3d613ad4-ca4f-4b59-d9a8-f63bcfad60f9"
      },
      "source": [
        "neighbourhoods = []\n",
        "for neig in list_of_neig:\n",
        "  neig_dict = get_gps(city=\"Toronto\",location_name= neig)\n",
        "  neighbourhoods.append(neig_dict)"
      ],
      "execution_count": 56,
      "outputs": [
        {
          "output_type": "error",
          "ename": "AttributeError",
          "evalue": "ignored",
          "traceback": [
            "\u001b[0;31m---------------------------------------------------------------------------\u001b[0m",
            "\u001b[0;31mAttributeError\u001b[0m                            Traceback (most recent call last)",
            "\u001b[0;32m<ipython-input-56-23ac479bd172>\u001b[0m in \u001b[0;36m<module>\u001b[0;34m()\u001b[0m\n\u001b[1;32m      1\u001b[0m \u001b[0mneighbourhoods\u001b[0m \u001b[0;34m=\u001b[0m \u001b[0;34m[\u001b[0m\u001b[0;34m]\u001b[0m\u001b[0;34m\u001b[0m\u001b[0;34m\u001b[0m\u001b[0m\n\u001b[1;32m      2\u001b[0m \u001b[0;32mfor\u001b[0m \u001b[0mneig\u001b[0m \u001b[0;32min\u001b[0m \u001b[0mlist_of_neig\u001b[0m\u001b[0;34m:\u001b[0m\u001b[0;34m\u001b[0m\u001b[0;34m\u001b[0m\u001b[0m\n\u001b[0;32m----> 3\u001b[0;31m   \u001b[0mneig_dict\u001b[0m \u001b[0;34m=\u001b[0m \u001b[0mget_gps\u001b[0m\u001b[0;34m(\u001b[0m\u001b[0mcity\u001b[0m\u001b[0;34m=\u001b[0m\u001b[0;34m\"Toronto\"\u001b[0m\u001b[0;34m,\u001b[0m\u001b[0mlocation_name\u001b[0m\u001b[0;34m=\u001b[0m \u001b[0mneig\u001b[0m\u001b[0;34m)\u001b[0m\u001b[0;34m\u001b[0m\u001b[0;34m\u001b[0m\u001b[0m\n\u001b[0m\u001b[1;32m      4\u001b[0m   \u001b[0mneighbourhoods\u001b[0m\u001b[0;34m.\u001b[0m\u001b[0mappend\u001b[0m\u001b[0;34m(\u001b[0m\u001b[0mneig_dict\u001b[0m\u001b[0;34m)\u001b[0m\u001b[0;34m\u001b[0m\u001b[0;34m\u001b[0m\u001b[0m\n",
            "\u001b[0;32m<ipython-input-50-4f7f858fc066>\u001b[0m in \u001b[0;36mget_gps\u001b[0;34m(city, location_name)\u001b[0m\n\u001b[1;32m      3\u001b[0m   \u001b[0mgeolocator\u001b[0m \u001b[0;34m=\u001b[0m \u001b[0mNominatim\u001b[0m\u001b[0;34m(\u001b[0m\u001b[0muser_agent\u001b[0m\u001b[0;34m=\u001b[0m\u001b[0;34m\"tr_explorer\"\u001b[0m\u001b[0;34m)\u001b[0m\u001b[0;34m\u001b[0m\u001b[0;34m\u001b[0m\u001b[0m\n\u001b[1;32m      4\u001b[0m   \u001b[0mlocation\u001b[0m \u001b[0;34m=\u001b[0m \u001b[0mgeolocator\u001b[0m\u001b[0;34m.\u001b[0m\u001b[0mgeocode\u001b[0m\u001b[0;34m(\u001b[0m\u001b[0maddress\u001b[0m\u001b[0;34m)\u001b[0m\u001b[0;34m\u001b[0m\u001b[0;34m\u001b[0m\u001b[0m\n\u001b[0;32m----> 5\u001b[0;31m   \u001b[0mlatitude\u001b[0m \u001b[0;34m=\u001b[0m \u001b[0mlocation\u001b[0m\u001b[0;34m.\u001b[0m\u001b[0mlatitude\u001b[0m\u001b[0;34m\u001b[0m\u001b[0;34m\u001b[0m\u001b[0m\n\u001b[0m\u001b[1;32m      6\u001b[0m   \u001b[0mlongitude\u001b[0m \u001b[0;34m=\u001b[0m \u001b[0mlocation\u001b[0m\u001b[0;34m.\u001b[0m\u001b[0mlongitude\u001b[0m\u001b[0;34m\u001b[0m\u001b[0;34m\u001b[0m\u001b[0m\n\u001b[1;32m      7\u001b[0m   \u001b[0;32mreturn\u001b[0m \u001b[0mdict\u001b[0m\u001b[0;34m(\u001b[0m\u001b[0mneighbourhood\u001b[0m\u001b[0;34m=\u001b[0m\u001b[0mlocation_name\u001b[0m\u001b[0;34m,\u001b[0m\u001b[0mlongitude\u001b[0m\u001b[0;34m=\u001b[0m\u001b[0mlongitude\u001b[0m\u001b[0;34m,\u001b[0m\u001b[0mlatitude\u001b[0m\u001b[0;34m=\u001b[0m\u001b[0mlatitude\u001b[0m\u001b[0;34m)\u001b[0m\u001b[0;34m\u001b[0m\u001b[0;34m\u001b[0m\u001b[0m\n",
            "\u001b[0;31mAttributeError\u001b[0m: 'NoneType' object has no attribute 'latitude'"
          ]
        }
      ]
    },
    {
      "cell_type": "code",
      "metadata": {
        "colab": {
          "base_uri": "https://localhost:8080/",
          "height": 204
        },
        "id": "a1E2QfPHtY3N",
        "outputId": "6dd1bcd8-32cf-4e53-8458-b6dd75e1eb6d"
      },
      "source": [
        "neighbourhoods =pd.DataFrame(data=neighbourhoods)\n",
        "neighbourhoods.head()"
      ],
      "execution_count": 54,
      "outputs": [
        {
          "output_type": "execute_result",
          "data": {
            "text/html": [
              "<div>\n",
              "<style scoped>\n",
              "    .dataframe tbody tr th:only-of-type {\n",
              "        vertical-align: middle;\n",
              "    }\n",
              "\n",
              "    .dataframe tbody tr th {\n",
              "        vertical-align: top;\n",
              "    }\n",
              "\n",
              "    .dataframe thead th {\n",
              "        text-align: right;\n",
              "    }\n",
              "</style>\n",
              "<table border=\"1\" class=\"dataframe\">\n",
              "  <thead>\n",
              "    <tr style=\"text-align: right;\">\n",
              "      <th></th>\n",
              "      <th>neighbourhood</th>\n",
              "      <th>longitude</th>\n",
              "      <th>latitude</th>\n",
              "    </tr>\n",
              "  </thead>\n",
              "  <tbody>\n",
              "    <tr>\n",
              "      <th>0</th>\n",
              "      <td>Yonge-St.Clair</td>\n",
              "      <td>-79.393657</td>\n",
              "      <td>43.687502</td>\n",
              "    </tr>\n",
              "    <tr>\n",
              "      <th>1</th>\n",
              "      <td>Yonge-St.Clair</td>\n",
              "      <td>-79.393657</td>\n",
              "      <td>43.687502</td>\n",
              "    </tr>\n",
              "    <tr>\n",
              "      <th>2</th>\n",
              "      <td>Yonge-St.Clair</td>\n",
              "      <td>-79.393657</td>\n",
              "      <td>43.687502</td>\n",
              "    </tr>\n",
              "    <tr>\n",
              "      <th>3</th>\n",
              "      <td>Yonge-St.Clair</td>\n",
              "      <td>-79.393657</td>\n",
              "      <td>43.687502</td>\n",
              "    </tr>\n",
              "    <tr>\n",
              "      <th>4</th>\n",
              "      <td>Yonge-St.Clair</td>\n",
              "      <td>-79.393657</td>\n",
              "      <td>43.687502</td>\n",
              "    </tr>\n",
              "  </tbody>\n",
              "</table>\n",
              "</div>"
            ],
            "text/plain": [
              "    neighbourhood  longitude   latitude\n",
              "0  Yonge-St.Clair -79.393657  43.687502\n",
              "1  Yonge-St.Clair -79.393657  43.687502\n",
              "2  Yonge-St.Clair -79.393657  43.687502\n",
              "3  Yonge-St.Clair -79.393657  43.687502\n",
              "4  Yonge-St.Clair -79.393657  43.687502"
            ]
          },
          "metadata": {},
          "execution_count": 54
        }
      ]
    },
    {
      "cell_type": "code",
      "metadata": {
        "colab": {
          "base_uri": "https://localhost:8080/"
        },
        "id": "m7VAvedWpzrF",
        "outputId": "061b518a-ee2e-4c16-8c1a-656c1fa4aabc"
      },
      "source": [
        "address = 'Haiti,Cap-Haitien'\n",
        "\n",
        "geolocator = Nominatim(user_agent=\"tr_explorer\")\n",
        "location = geolocator.geocode(address)\n",
        "latitude = location.latitude\n",
        "longitude = location.longitude\n",
        "print('The geograpical coordinate of Toronto are {}, {}.'.format(latitude, longitude))"
      ],
      "execution_count": 45,
      "outputs": [
        {
          "output_type": "stream",
          "name": "stdout",
          "text": [
            "The geograpical coordinate of Toronto are 19.7595236, -72.2008068.\n"
          ]
        }
      ]
    },
    {
      "cell_type": "code",
      "metadata": {
        "colab": {
          "base_uri": "https://localhost:8080/"
        },
        "id": "A7qG5CIFxas1",
        "outputId": "25a3abb6-bb80-4759-fd55-25040cae9ad8"
      },
      "source": [
        "neig=shooting_firearm[['Neighbourhood', 'Longitude', 'Latitude']]\n",
        "neig.Neighbourhood = neig.Neighbourhood.apply(lambda x: str(x).split(\"(\")[0]) \n",
        "neig."
      ],
      "execution_count": 9,
      "outputs": [
        {
          "output_type": "stream",
          "name": "stderr",
          "text": [
            "/usr/local/lib/python3.7/dist-packages/pandas/core/generic.py:5170: SettingWithCopyWarning: \n",
            "A value is trying to be set on a copy of a slice from a DataFrame.\n",
            "Try using .loc[row_indexer,col_indexer] = value instead\n",
            "\n",
            "See the caveats in the documentation: https://pandas.pydata.org/pandas-docs/stable/user_guide/indexing.html#returning-a-view-versus-a-copy\n",
            "  self[name] = value\n"
          ]
        },
        {
          "output_type": "execute_result",
          "data": {
            "text/plain": [
              "(4857, 3)"
            ]
          },
          "metadata": {},
          "execution_count": 9
        }
      ]
    },
    {
      "cell_type": "code",
      "metadata": {
        "id": "AMfDK5MOxawg"
      },
      "source": [
        "\n",
        "\n",
        "CLIENT_ID = '5HTISOR0QNYSGW13WEECOYSMFGU5CUFSCFTV14U0STXANWUU' # your Foursquare ID\n",
        "CLIENT_SECRET = '0N5TQM24WR3QJD4M5HTI1NVM2TSBW4WRSY0X4YAZMNGV5OSV' # your Foursquare Secret\n",
        "VERSION = '20180605' # Foursquare API version\n",
        "\n",
        "#print('Your credentails:')\n",
        "#print('CLIENT_ID: ' + CLIENT_ID)\n",
        "#print('CLIENT_SECRET:' + CLIENT_SECRET)"
      ],
      "execution_count": 17,
      "outputs": []
    },
    {
      "cell_type": "code",
      "metadata": {
        "id": "56Ez3GvDyfpe"
      },
      "source": [
        "neighborhood_latitude = neig.loc[0, 'Latitude'] # neighborhood latitude value\n",
        "neighborhood_longitude = neig.loc[0, 'Longitude'] # neighborhood longitude value\n",
        "\n",
        "neighborhood_name = neig.loc[0, 'Neighbourhood'] # neighborhood name"
      ],
      "execution_count": 18,
      "outputs": []
    },
    {
      "cell_type": "code",
      "metadata": {
        "colab": {
          "base_uri": "https://localhost:8080/"
        },
        "id": "U-dqlTGOxa0D",
        "outputId": "24302dcc-3ce1-4fb8-dab0-179d8e910216"
      },
      "source": [
        "toronto_latitude = neig.loc[0, 'Latitude'] # neighborhood latitude value\n",
        "toronto_longitude = neig.loc[0, 'Longitude'] # neighborhood longitude value\n",
        "\n",
        "toronto_name = neig.loc[0, 'Neighbourhood'] # nteighborhood name\n",
        "\n",
        "print('Latitude and longitude values of {} are {}, {}.'.format(toronto_name, \n",
        "                                                               toronto_latitude, \n",
        "                                                               toronto_longitude))"
      ],
      "execution_count": 19,
      "outputs": [
        {
          "output_type": "stream",
          "name": "stdout",
          "text": [
            "Latitude and longitude values of Agincourt North  are 43.80473298333333, -79.2645424577778.\n"
          ]
        }
      ]
    },
    {
      "cell_type": "code",
      "metadata": {
        "colab": {
          "base_uri": "https://localhost:8080/",
          "height": 88
        },
        "id": "su8KeGLqyv8F",
        "outputId": "1f40d8c0-d5ac-4b39-9977-0a994ca9c71a"
      },
      "source": [
        "\n",
        "LIMIT = 100 # limit of number of venues returned by Foursquare API\n",
        "radius = 20000 # define radius\n",
        "url = 'https://api.foursquare.com/v2/venues/explore?&client_id={}&client_secret={}&v={}&ll={},{}&radius={}&limit={}'.format(\n",
        "    CLIENT_ID, \n",
        "    CLIENT_SECRET, \n",
        "    VERSION, \n",
        "    toronto_latitude,\n",
        "    toronto_longitude, \n",
        "    radius, \n",
        "    LIMIT)\n",
        "url"
      ],
      "execution_count": 20,
      "outputs": [
        {
          "output_type": "execute_result",
          "data": {
            "application/vnd.google.colaboratory.intrinsic+json": {
              "type": "string"
            },
            "text/plain": [
              "'https://api.foursquare.com/v2/venues/explore?&client_id=5HTISOR0QNYSGW13WEECOYSMFGU5CUFSCFTV14U0STXANWUU&client_secret=0N5TQM24WR3QJD4M5HTI1NVM2TSBW4WRSY0X4YAZMNGV5OSV&v=20180605&ll=43.80473298333333,-79.2645424577778&radius=20000&limit=100'"
            ]
          },
          "metadata": {},
          "execution_count": 20
        }
      ]
    },
    {
      "cell_type": "code",
      "metadata": {
        "id": "CWYGGDluywCN"
      },
      "source": [
        "def return_most_common_venues(row, num_top_venues):\n",
        "    row_categories = row.iloc[1:]\n",
        "    row_categories_sorted = row_categories.sort_values(ascending=False)\n",
        "    \n",
        "    return row_categories_sorted.index.values[0:num_top_venues]"
      ],
      "execution_count": 21,
      "outputs": []
    },
    {
      "cell_type": "code",
      "metadata": {
        "id": "43GEymcAywPF"
      },
      "source": [
        "# function that extracts the category of the venue\n",
        "def get_category_type(row):\n",
        "    try:\n",
        "        categories_list = row['categories']\n",
        "    except:\n",
        "        categories_list = row['venue.categories']\n",
        "        \n",
        "    if len(categories_list) == 0:\n",
        "        return None\n",
        "    else:\n",
        "        return categories_list[0]['name']"
      ],
      "execution_count": 22,
      "outputs": []
    },
    {
      "cell_type": "code",
      "metadata": {
        "id": "-IL9ZvBx-4yO"
      },
      "source": [
        "def getNearbyVenues(names, latitudes, longitudes, radius=500):\n",
        "    \n",
        "    venues_list=[]\n",
        "    i=0\n",
        "    for name, lat, lng in zip(names, latitudes, longitudes):\n",
        "        print(i,name)\n",
        "            \n",
        "        # create the API request URL\n",
        "        url = 'https://api.foursquare.com/v2/venues/explore?&client_id={}&client_secret={}&v={}&ll={},{}&radius={}&limit={}'.format(\n",
        "            CLIENT_ID, \n",
        "            CLIENT_SECRET, \n",
        "            VERSION, \n",
        "            lat, \n",
        "            lng, \n",
        "            radius, \n",
        "            LIMIT)\n",
        "            \n",
        "        # make the GET request\n",
        "        try:\n",
        "\n",
        "          results = requests.get(url).json()[\"response\"]['groups'][0]['items']\n",
        "          \n",
        "          # return only relevant information for each nearby venue\n",
        "          venues_list.append([(\n",
        "              name, \n",
        "              lat, \n",
        "              lng, \n",
        "              v['venue']['name'], \n",
        "              v['venue']['location']['lat'], \n",
        "              v['venue']['location']['lng'],  \n",
        "              v['venue']['categories'][0]['name']) for v in results])\n",
        "        except:\n",
        "          pass\n",
        "        i+=1\n",
        "\n",
        "    nearby_venues = pd.DataFrame([item for venue_list in venues_list for item in venue_list])\n",
        "    nearby_venues.columns = ['Neighborhood', \n",
        "                  'Neighborhood Latitude', \n",
        "                  'Neighborhood Longitude', \n",
        "                  'Venue', \n",
        "                  'Venue Latitude', \n",
        "                  'Venue Longitude', \n",
        "                  'Venue Category']\n",
        "    \n",
        "    return(nearby_venues)"
      ],
      "execution_count": 23,
      "outputs": []
    },
    {
      "cell_type": "code",
      "metadata": {
        "id": "WSbGmt0ok0D3"
      },
      "source": [
        "neig =neig.groupby(by=\"Neighbourhood\").mean().reset_index()"
      ],
      "execution_count": 24,
      "outputs": []
    },
    {
      "cell_type": "code",
      "metadata": {
        "colab": {
          "base_uri": "https://localhost:8080/",
          "height": 1000
        },
        "id": "JXeZsnSM-476",
        "outputId": "e0f4e24e-8b2b-44d2-e378-9df2a2ae589e"
      },
      "source": [
        "venues_of_toronto = getNearbyVenues(names=neig['Neighbourhood'],\n",
        "                                   latitudes=neig['Latitude'],\n",
        "                                   longitudes=neig['Longitude']\n",
        "                                  )"
      ],
      "execution_count": 25,
      "outputs": [
        {
          "output_type": "stream",
          "name": "stdout",
          "text": [
            "0 Agincourt North \n",
            "1 Agincourt South-Malvern West \n",
            "2 Alderwood \n",
            "3 Annex \n",
            "4 Banbury-Don Mills \n",
            "5 Bathurst Manor \n",
            "6 Bay Street Corridor \n",
            "7 Bayview Village \n",
            "8 Bayview Woods-Steeles \n",
            "9 Bedford Park-Nortown \n",
            "10 Beechborough-Greenbrook \n",
            "11 Bendale \n",
            "12 Birchcliffe-Cliffside \n",
            "13 Black Creek \n",
            "14 Blake-Jones \n",
            "15 Briar Hill-Belgravia \n",
            "16 Bridle Path-Sunnybrook-York Mills \n",
            "17 Broadview North \n",
            "18 Brookhaven-Amesbury \n",
            "19 Cabbagetown-South St.James Town \n",
            "20 Caledonia-Fairbank \n",
            "21 Centennial Scarborough \n",
            "22 Church-Yonge Corridor \n",
            "23 Clairlea-Birchmount \n",
            "24 Clanton Park \n",
            "25 Cliffcrest \n",
            "26 Corso Italia-Davenport \n",
            "27 Danforth \n",
            "28 Danforth East York \n",
            "29 Don Valley Village \n",
            "30 Dorset Park \n",
            "31 Dovercourt-Wallace Emerson-Junction \n",
            "32 Downsview-Roding-CFB \n",
            "33 Dufferin Grove \n",
            "34 East End-Danforth \n",
            "35 Edenbridge-Humber Valley \n",
            "36 Eglinton East \n",
            "37 Elms-Old Rexdale \n",
            "38 Englemount-Lawrence \n",
            "39 Eringate-Centennial-West Deane \n",
            "40 Etobicoke West Mall \n",
            "41 Flemingdon Park \n",
            "42 Forest Hill North \n",
            "43 Forest Hill South \n",
            "44 Glenfield-Jane Heights \n",
            "45 Greenwood-Coxwell \n",
            "46 Guildwood \n",
            "47 Henry Farm \n",
            "48 High Park North \n",
            "49 High Park-Swansea \n",
            "50 Highland Creek \n",
            "51 Hillcrest Village \n",
            "52 Humber Heights-Westmount \n",
            "53 Humber Summit \n",
            "54 Humbermede \n",
            "55 Humewood-Cedarvale \n",
            "56 Ionview \n",
            "57 Islington-City Centre West \n",
            "58 Junction Area \n",
            "59 Keelesdale-Eglinton West \n",
            "60 Kennedy Park \n",
            "61 Kensington-Chinatown \n",
            "62 Kingsview Village-The Westway \n",
            "63 L'Amoreaux \n",
            "64 Lambton Baby Point \n",
            "65 Lansing-Westgate \n",
            "66 Lawrence Park North \n",
            "67 Little Portugal \n",
            "68 Long Branch \n",
            "69 Malvern \n",
            "70 Maple Leaf \n",
            "71 Markland Wood \n",
            "72 Milliken \n",
            "73 Mimico \n",
            "74 Morningside \n",
            "75 Moss Park \n",
            "76 Mount Dennis \n",
            "77 Mount Olive-Silverstone-Jamestown \n",
            "78 Mount Pleasant East \n",
            "79 Mount Pleasant West \n",
            "80 New Toronto \n",
            "81 Newtonbrook East \n",
            "82 Newtonbrook West \n",
            "83 Niagara \n",
            "84 North Riverdale \n",
            "85 North St.James Town \n",
            "86 O'Connor-Parkview \n",
            "87 Oakridge \n",
            "88 Oakwood Village \n",
            "89 Old East York \n",
            "90 Palmerston-Little Italy \n",
            "91 Parkwoods-Donalda \n",
            "92 Pelmo Park-Humberlea \n",
            "93 Playter Estates-Danforth \n",
            "94 Pleasant View \n",
            "95 Princess-Rosethorn \n",
            "96 Regent Park \n",
            "97 Rexdale-Kipling \n",
            "98 Rockcliffe-Smythe \n",
            "99 Roncesvalles \n",
            "100 Rosedale-Moore Park \n",
            "101 Rouge \n",
            "102 Runnymede-Bloor West Village \n",
            "103 Rustic \n",
            "104 Scarborough Village \n",
            "105 South Parkdale \n",
            "106 South Riverdale \n",
            "107 St.Andrew-Windfields \n",
            "108 Steeles \n",
            "109 Stonegate-Queensway \n",
            "110 Tam O'Shanter-Sullivan \n",
            "111 Taylor-Massey \n",
            "112 The Beaches \n",
            "113 Thistletown-Beaumond Heights \n",
            "114 Thorncliffe Park \n",
            "115 Trinity-Bellwoods \n",
            "116 University \n",
            "117 Victoria Village \n",
            "118 Waterfront Communities-The Island \n",
            "119 West Hill \n",
            "120 West Humber-Clairville \n",
            "121 Westminster-Branson \n",
            "122 Weston \n",
            "123 Weston-Pellam Park \n",
            "124 Wexford/Maryvale \n",
            "125 Willowdale East \n",
            "126 Willowdale West \n",
            "127 Willowridge-Martingrove-Richview \n",
            "128 Woburn \n",
            "129 Woodbine Corridor \n",
            "130 Woodbine-Lumsden \n",
            "131 Wychwood \n",
            "132 Yonge-Eglinton \n",
            "133 Yonge-St.Clair \n",
            "134 York University Heights \n",
            "135 Yorkdale-Glen Park \n",
            "136 nan\n"
          ]
        },
        {
          "output_type": "error",
          "ename": "ValueError",
          "evalue": "ignored",
          "traceback": [
            "\u001b[0;31m---------------------------------------------------------------------------\u001b[0m",
            "\u001b[0;31mValueError\u001b[0m                                Traceback (most recent call last)",
            "\u001b[0;32m<ipython-input-25-7acf21a9edc6>\u001b[0m in \u001b[0;36m<module>\u001b[0;34m()\u001b[0m\n\u001b[1;32m      1\u001b[0m venues_of_toronto = getNearbyVenues(names=neig['Neighbourhood'],\n\u001b[1;32m      2\u001b[0m                                    \u001b[0mlatitudes\u001b[0m\u001b[0;34m=\u001b[0m\u001b[0mneig\u001b[0m\u001b[0;34m[\u001b[0m\u001b[0;34m'Latitude'\u001b[0m\u001b[0;34m]\u001b[0m\u001b[0;34m,\u001b[0m\u001b[0;34m\u001b[0m\u001b[0;34m\u001b[0m\u001b[0m\n\u001b[0;32m----> 3\u001b[0;31m                                    \u001b[0mlongitudes\u001b[0m\u001b[0;34m=\u001b[0m\u001b[0mneig\u001b[0m\u001b[0;34m[\u001b[0m\u001b[0;34m'Longitude'\u001b[0m\u001b[0;34m]\u001b[0m\u001b[0;34m\u001b[0m\u001b[0;34m\u001b[0m\u001b[0m\n\u001b[0m\u001b[1;32m      4\u001b[0m                                   )\n",
            "\u001b[0;32m<ipython-input-23-a0dddfe951ac>\u001b[0m in \u001b[0;36mgetNearbyVenues\u001b[0;34m(names, latitudes, longitudes, radius)\u001b[0m\n\u001b[1;32m     41\u001b[0m                   \u001b[0;34m'Venue Latitude'\u001b[0m\u001b[0;34m,\u001b[0m\u001b[0;34m\u001b[0m\u001b[0;34m\u001b[0m\u001b[0m\n\u001b[1;32m     42\u001b[0m                   \u001b[0;34m'Venue Longitude'\u001b[0m\u001b[0;34m,\u001b[0m\u001b[0;34m\u001b[0m\u001b[0;34m\u001b[0m\u001b[0m\n\u001b[0;32m---> 43\u001b[0;31m                   'Venue Category']\n\u001b[0m\u001b[1;32m     44\u001b[0m \u001b[0;34m\u001b[0m\u001b[0m\n\u001b[1;32m     45\u001b[0m     \u001b[0;32mreturn\u001b[0m\u001b[0;34m(\u001b[0m\u001b[0mnearby_venues\u001b[0m\u001b[0;34m)\u001b[0m\u001b[0;34m\u001b[0m\u001b[0;34m\u001b[0m\u001b[0m\n",
            "\u001b[0;32m/usr/local/lib/python3.7/dist-packages/pandas/core/generic.py\u001b[0m in \u001b[0;36m__setattr__\u001b[0;34m(self, name, value)\u001b[0m\n\u001b[1;32m   5152\u001b[0m         \u001b[0;32mtry\u001b[0m\u001b[0;34m:\u001b[0m\u001b[0;34m\u001b[0m\u001b[0;34m\u001b[0m\u001b[0m\n\u001b[1;32m   5153\u001b[0m             \u001b[0mobject\u001b[0m\u001b[0;34m.\u001b[0m\u001b[0m__getattribute__\u001b[0m\u001b[0;34m(\u001b[0m\u001b[0mself\u001b[0m\u001b[0;34m,\u001b[0m \u001b[0mname\u001b[0m\u001b[0;34m)\u001b[0m\u001b[0;34m\u001b[0m\u001b[0;34m\u001b[0m\u001b[0m\n\u001b[0;32m-> 5154\u001b[0;31m             \u001b[0;32mreturn\u001b[0m \u001b[0mobject\u001b[0m\u001b[0;34m.\u001b[0m\u001b[0m__setattr__\u001b[0m\u001b[0;34m(\u001b[0m\u001b[0mself\u001b[0m\u001b[0;34m,\u001b[0m \u001b[0mname\u001b[0m\u001b[0;34m,\u001b[0m \u001b[0mvalue\u001b[0m\u001b[0;34m)\u001b[0m\u001b[0;34m\u001b[0m\u001b[0;34m\u001b[0m\u001b[0m\n\u001b[0m\u001b[1;32m   5155\u001b[0m         \u001b[0;32mexcept\u001b[0m \u001b[0mAttributeError\u001b[0m\u001b[0;34m:\u001b[0m\u001b[0;34m\u001b[0m\u001b[0;34m\u001b[0m\u001b[0m\n\u001b[1;32m   5156\u001b[0m             \u001b[0;32mpass\u001b[0m\u001b[0;34m\u001b[0m\u001b[0;34m\u001b[0m\u001b[0m\n",
            "\u001b[0;32mpandas/_libs/properties.pyx\u001b[0m in \u001b[0;36mpandas._libs.properties.AxisProperty.__set__\u001b[0;34m()\u001b[0m\n",
            "\u001b[0;32m/usr/local/lib/python3.7/dist-packages/pandas/core/generic.py\u001b[0m in \u001b[0;36m_set_axis\u001b[0;34m(self, axis, labels)\u001b[0m\n\u001b[1;32m    562\u001b[0m     \u001b[0;32mdef\u001b[0m \u001b[0m_set_axis\u001b[0m\u001b[0;34m(\u001b[0m\u001b[0mself\u001b[0m\u001b[0;34m,\u001b[0m \u001b[0maxis\u001b[0m\u001b[0;34m:\u001b[0m \u001b[0mint\u001b[0m\u001b[0;34m,\u001b[0m \u001b[0mlabels\u001b[0m\u001b[0;34m:\u001b[0m \u001b[0mIndex\u001b[0m\u001b[0;34m)\u001b[0m \u001b[0;34m->\u001b[0m \u001b[0;32mNone\u001b[0m\u001b[0;34m:\u001b[0m\u001b[0;34m\u001b[0m\u001b[0;34m\u001b[0m\u001b[0m\n\u001b[1;32m    563\u001b[0m         \u001b[0mlabels\u001b[0m \u001b[0;34m=\u001b[0m \u001b[0mensure_index\u001b[0m\u001b[0;34m(\u001b[0m\u001b[0mlabels\u001b[0m\u001b[0;34m)\u001b[0m\u001b[0;34m\u001b[0m\u001b[0;34m\u001b[0m\u001b[0m\n\u001b[0;32m--> 564\u001b[0;31m         \u001b[0mself\u001b[0m\u001b[0;34m.\u001b[0m\u001b[0m_mgr\u001b[0m\u001b[0;34m.\u001b[0m\u001b[0mset_axis\u001b[0m\u001b[0;34m(\u001b[0m\u001b[0maxis\u001b[0m\u001b[0;34m,\u001b[0m \u001b[0mlabels\u001b[0m\u001b[0;34m)\u001b[0m\u001b[0;34m\u001b[0m\u001b[0;34m\u001b[0m\u001b[0m\n\u001b[0m\u001b[1;32m    565\u001b[0m         \u001b[0mself\u001b[0m\u001b[0;34m.\u001b[0m\u001b[0m_clear_item_cache\u001b[0m\u001b[0;34m(\u001b[0m\u001b[0;34m)\u001b[0m\u001b[0;34m\u001b[0m\u001b[0;34m\u001b[0m\u001b[0m\n\u001b[1;32m    566\u001b[0m \u001b[0;34m\u001b[0m\u001b[0m\n",
            "\u001b[0;32m/usr/local/lib/python3.7/dist-packages/pandas/core/internals/managers.py\u001b[0m in \u001b[0;36mset_axis\u001b[0;34m(self, axis, new_labels)\u001b[0m\n\u001b[1;32m    225\u001b[0m         \u001b[0;32mif\u001b[0m \u001b[0mnew_len\u001b[0m \u001b[0;34m!=\u001b[0m \u001b[0mold_len\u001b[0m\u001b[0;34m:\u001b[0m\u001b[0;34m\u001b[0m\u001b[0;34m\u001b[0m\u001b[0m\n\u001b[1;32m    226\u001b[0m             raise ValueError(\n\u001b[0;32m--> 227\u001b[0;31m                 \u001b[0;34mf\"Length mismatch: Expected axis has {old_len} elements, new \"\u001b[0m\u001b[0;34m\u001b[0m\u001b[0;34m\u001b[0m\u001b[0m\n\u001b[0m\u001b[1;32m    228\u001b[0m                 \u001b[0;34mf\"values have {new_len} elements\"\u001b[0m\u001b[0;34m\u001b[0m\u001b[0;34m\u001b[0m\u001b[0m\n\u001b[1;32m    229\u001b[0m             )\n",
            "\u001b[0;31mValueError\u001b[0m: Length mismatch: Expected axis has 0 elements, new values have 7 elements"
          ]
        }
      ]
    },
    {
      "cell_type": "code",
      "metadata": {
        "id": "_3nTrC7z-5Jm"
      },
      "source": [
        ""
      ],
      "execution_count": null,
      "outputs": []
    },
    {
      "cell_type": "code",
      "metadata": {
        "id": "gFgaWKrt-5L3"
      },
      "source": [
        ""
      ],
      "execution_count": null,
      "outputs": []
    },
    {
      "cell_type": "code",
      "metadata": {
        "id": "J1ruvPemxa4D"
      },
      "source": [
        ""
      ],
      "execution_count": null,
      "outputs": []
    }
  ]
}